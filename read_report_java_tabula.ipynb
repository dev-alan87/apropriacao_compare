{
 "cells": [
  {
   "cell_type": "markdown",
   "metadata": {},
   "source": [
    "IMPORTS"
   ]
  },
  {
   "cell_type": "code",
   "execution_count": 119,
   "metadata": {},
   "outputs": [],
   "source": [
    "# tabula para ler tabelas de pdf\n",
    "# pandas para usar dataframes\n",
    "# numpy  para trabalhar com numeros\n",
    "import tabula as tb\n",
    "import pandas as pd\n",
    "import numpy  as np"
   ]
  },
  {
   "cell_type": "markdown",
   "metadata": {},
   "source": [
    "VARIÁVEIS"
   ]
  },
  {
   "cell_type": "code",
   "execution_count": 120,
   "metadata": {},
   "outputs": [],
   "source": [
    "#local do arquivo a ser lido\n",
    "FILE_PATH = \"RHPP05LA - GERAL.pdf\"\n",
    "\n",
    "# normalizacao de dados\n",
    "TEXTOS_NORMALIZADOS_JAVA = {\n",
    "    \"1/3 Férias Total Férias\": \"13_ferias total_ferias\", \n",
    "    \"1/3 Férias\"            : \"13_ferias\", \n",
    "    \"Total Férias\"          : \"total_ferias\", \n",
    "    \"13o Salário\"           : \"13_salario\", \n",
    "    \"TOTAL\"                 : \"total\", \n",
    "    \"Apropriação\"           : \"apropriacao\", \n",
    "    \"INSS 20,00%\"           : \"inss\", \n",
    "    \".*Ac. Trab. .*\"        : \"ac_trab\", \n",
    "    \"FGTS 8%\"               : \"fgts\", \n",
    "    \"SP-PREVCOM\"            : \"spprevcom\", \n",
    "    \"Total de Encargos\"     : \"total_encargos\", \n",
    "    \"Férias em pecúnia\"     : \"ferias_pecunia\", \n",
    "    \"SPPREV\"                : \"spprev\", \n",
    "    \"Férias\"                : \"ferias\", \n",
    "    \"\\.\"                    : \"\",\n",
    "    \",\"                     : \".\",\n",
    "    \"APROPRIAÇÃO MENSAL\"    : \"apropriado\",\n",
    "    \"REALIZADO MENSAL\"      : \"realizado\",\n",
    "    \"SALDO FINAL MENSAL\"    : \"saldo\",\n",
    "    \"REVERSÃO / REVISÃO DAS APROPRIAÇÕES\" : \"revertido\",\n",
    "    }\n",
    "\n",
    "# renomeacao de colunas do dataframe\n",
    "COLUNAS_RENOMEADAS = {\n",
    "    \"Unnamed: 0\": \"tipo\", \n",
    "    \"Unnamed: 1\":\"Col1\", \n",
    "    \"Col1\":\"Col2\", \n",
    "    \"Col2\":\"Col3\", \n",
    "    \"Unnamed: 2\":\"Col4\", \n",
    "    \"Unnamed: 3\":\"Col5\",\n",
    "    }\n",
    "\n",
    "# reordenacao de colunas do dataframe\n",
    "COLUNAS_ORDENADAS = [\n",
    "    \"Unnamed: 0\", \n",
    "    \"Unnamed: 1\", \n",
    "    \"Col1\", \n",
    "    \"Col2\", \n",
    "    \"Unnamed: 2\", \n",
    "    \"Unnamed: 3\", \n",
    "    ]\n",
    "\n",
    "# tipos de tabelas do pdf\n",
    "TIPOS_TABELAS =  [\n",
    "    \"CLT\", \n",
    "    \"AUTÁRQUICO\", \n",
    "    ]\n",
    "\n",
    "# tipos de tabelas do pdf que nao vao ser usadas\n",
    "TIPOS_TABELAS_A_IGNORAR = [\n",
    "    \"TOTAIS\", \n",
    "    ]\n",
    "\n",
    "# tipos de tabelas das tabelas\n",
    "TABELAS_INTERNAS = [\n",
    "    \"apropriado\", \n",
    "    \"realizado\", \n",
    "    \"saldo\", \n",
    "    \"revertido\", \n",
    "]"
   ]
  },
  {
   "cell_type": "markdown",
   "metadata": {},
   "source": [
    "FUNÇÕES"
   ]
  },
  {
   "cell_type": "code",
   "execution_count": 121,
   "metadata": {},
   "outputs": [],
   "source": [
    "def normalize_text_java(tables:list) -> list:\n",
    "    for index, table in enumerate(tables, start=1):\n",
    "        tables[index-1] = table.replace(TEXTOS_NORMALIZADOS_JAVA, inplace=False, regex=True)\n",
    "    return tables\n",
    "\n",
    "def get_table_type(table:list) -> str:\n",
    "    if not any(ignore_type in column for column in table for ignore_type in TIPOS_TABELAS_A_IGNORAR):\n",
    "        for type in TIPOS_TABELAS:\n",
    "            if type in table.columns:\n",
    "                return type\n",
    "    return None\n",
    "\n",
    "def split_column(table:list, type:str, col1=\"Col1\", col2=\"Col2\") -> pd.DataFrame:\n",
    "    df = pd.DataFrame(columns=[col1, col2])\n",
    "    for value in table[type]:\n",
    "        values = value.split()\n",
    "        df.loc[len(df)] = [values[0], values[1] if len(values) > 1 else None]\n",
    "    return df\n",
    "\n",
    "def join_columns(table:list, df:pd.DataFrame, type:str) -> pd.DataFrame:\n",
    "    table.drop(columns=[type], inplace=True)\n",
    "    table = pd.concat([table, df], axis=1)\n",
    "    return table\n",
    "\n",
    "def format_data_frame(df:pd.DataFrame, type:str)->pd.DataFrame:\n",
    "    df = df.reindex(columns=COLUNAS_ORDENADAS)\n",
    "    COLUNAS_RENOMEADAS[\"Unnamed: 0\"] = type\n",
    "    df = df.rename(columns=COLUNAS_RENOMEADAS)\n",
    "    return df\n",
    "\n",
    "def get_line_positions(df:pd.DataFrame, col:str=\"Col2\") -> list:\n",
    "    positions = []\n",
    "    for index, line in enumerate(df[col]):\n",
    "        if line in TABELAS_INTERNAS:\n",
    "            positions.append(index)\n",
    "    positions.append(len(df))\n",
    "    return positions\n",
    "\n",
    "def split_internal_dataframe(df_main:pd.DataFrame, pos:list):\n",
    "    results = []\n",
    "    for i in range(len(pos) - 1):\n",
    "            df_new  = df_main[pos[i] : pos[i+1]]\n",
    "            type_df = df_new.iloc[0,2]\n",
    "\n",
    "            df_new  = df_new.rename(columns=df_new.iloc[1].replace(np.nan, \"\"))[2:]\n",
    "            df_new.reset_index(drop=True, inplace=True)\n",
    "            \n",
    "            results.append((type_df, df_new))\n",
    "    return results\n",
    "\n",
    "def get_dataframes(df_main:pd.DataFrame) -> list:\n",
    "    type = get_table_type(df_main)\n",
    "    if type is not None:\n",
    "        df_main = join_columns(df_main, split_column(df_main, type), type)\n",
    "        df_main = format_data_frame(df_main, type)\n",
    "        return split_internal_dataframe(df_main, get_line_positions(df_main))\n",
    "    else:\n",
    "        return []"
   ]
  },
  {
   "cell_type": "markdown",
   "metadata": {},
   "source": [
    "EXECUÇÃO PRINCIPAL"
   ]
  },
  {
   "cell_type": "code",
   "execution_count": 122,
   "metadata": {},
   "outputs": [
    {
     "ename": "TypeError",
     "evalue": "'NoneType' object is not iterable",
     "output_type": "error",
     "traceback": [
      "\u001b[0;31m---------------------------------------------------------------------------\u001b[0m",
      "\u001b[0;31mTypeError\u001b[0m                                 Traceback (most recent call last)",
      "Cell \u001b[0;32mIn[122], line 5\u001b[0m\n\u001b[1;32m      3\u001b[0m \u001b[38;5;28;01mfor\u001b[39;00m tabela \u001b[38;5;129;01min\u001b[39;00m tabelas:\n\u001b[1;32m      4\u001b[0m     resultados \u001b[38;5;241m=\u001b[39m get_dataframes(tabela)\n\u001b[0;32m----> 5\u001b[0m     \u001b[38;5;28;01mfor\u001b[39;00m tipo_tabela, sub_tabela \u001b[38;5;129;01min\u001b[39;00m resultados:\n\u001b[1;32m      6\u001b[0m         \u001b[38;5;28mprint\u001b[39m(tipo_tabela)\n\u001b[1;32m      7\u001b[0m         display(sub_tabela)\n",
      "\u001b[0;31mTypeError\u001b[0m: 'NoneType' object is not iterable"
     ]
    }
   ],
   "source": [
    "\n",
    "tabelas = normalize_text_java(tb.read_pdf(FILE_PATH, pages=\"all\"))\n",
    "\n",
    "for tabela in tabelas:\n",
    "    resultados = get_dataframes(tabela)\n",
    "    for tipo_tabela, sub_tabela in resultados:\n",
    "        print(tipo_tabela)\n",
    "        display(sub_tabela)"
   ]
  }
 ],
 "metadata": {
  "kernelspec": {
   "display_name": "Python 3",
   "language": "python",
   "name": "python3"
  },
  "language_info": {
   "codemirror_mode": {
    "name": "ipython",
    "version": 3
   },
   "file_extension": ".py",
   "mimetype": "text/x-python",
   "name": "python",
   "nbconvert_exporter": "python",
   "pygments_lexer": "ipython3",
   "version": "3.10.12"
  }
 },
 "nbformat": 4,
 "nbformat_minor": 2
}
