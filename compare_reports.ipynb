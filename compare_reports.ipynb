{
 "cells": [
  {
   "cell_type": "code",
   "execution_count": 3,
   "metadata": {},
   "outputs": [],
   "source": [
    "import nbimporter\n",
    "import read_report_cobol as cobol_reader # type: ignore\n",
    "import read_report_java as java_reader # type: ignore\n",
    "\n",
    "cobol = cobol_reader.get_cobol_data_from(\"RHPP05LA.PDF\")\n",
    "java = java_reader.get_java_data_from(\"RHPP05LA - GERAL.pdf\")"
   ]
  }
 ],
 "metadata": {
  "kernelspec": {
   "display_name": "Python 3",
   "language": "python",
   "name": "python3"
  },
  "language_info": {
   "codemirror_mode": {
    "name": "ipython",
    "version": 3
   },
   "file_extension": ".py",
   "mimetype": "text/x-python",
   "name": "python",
   "nbconvert_exporter": "python",
   "pygments_lexer": "ipython3",
   "version": "3.10.12"
  }
 },
 "nbformat": 4,
 "nbformat_minor": 2
}
