{
 "cells": [
  {
   "cell_type": "markdown",
   "metadata": {},
   "source": [
    "IMPORTS E PARÂMETROS"
   ]
  },
  {
   "cell_type": "code",
   "execution_count": 1,
   "metadata": {},
   "outputs": [],
   "source": [
    "from PyPDF2 import PdfReader\n",
    "from PyPDF2 import PageObject"
   ]
  },
  {
   "cell_type": "markdown",
   "metadata": {},
   "source": [
    "FUNÇÕES"
   ]
  },
  {
   "cell_type": "code",
   "execution_count": 2,
   "metadata": {},
   "outputs": [],
   "source": [
    "def normalize_text(word:str):\n",
    "    subs = {\n",
    "        \"-FMV\"          : \" - FMV\",\n",
    "        \"CLT\"           : \"clt\", \n",
    "        \"AUTÁRQUICO\"    : \"autarquico\"\n",
    "    }\n",
    "\n",
    "    for old, new in subs.items():\n",
    "        word = word.replace(old, new)\n",
    "    return word\n",
    "\n",
    "def extract_info_from_page(page:PageObject, ignore_pages_with:list=[\"TOTAIS\"], split_text:str=\"OP \", split_op=\" - \"):\n",
    "    lines = page.extract_text().split(\"\\n\")\n",
    "    \n",
    "    tb_type = normalize_text(lines[3])\n",
    "\n",
    "    if not any(ignore_words in lines for ignore_words in ignore_pages_with):\n",
    "        info = lines[2].split(split_text)[1]\n",
    "        info = info.split(split_op, 1)\n",
    "        op_code = int(info[0])\n",
    "        op = normalize_text(info[1])\n",
    "\n",
    "        return op, op_code, tb_type\n",
    "    else:\n",
    "        return None, None, None\n",
    "\n",
    "def add_unique_valid_info(result:tuple, results:list):\n",
    "    if result[0] is not None:\n",
    "        if result not in results:\n",
    "            results.append(result)\n",
    "    return results\n",
    "\n",
    "def get_lines_from(file_path, table_priority={'CLT': 0, 'AUTÁRQUICO': 1}):\n",
    "    resultados = []\n",
    "\n",
    "    with open(file_path, 'rb') as pdf_file:\n",
    "        pdf_reader = PdfReader(pdf_file)\n",
    "        pages = pdf_reader.pages\n",
    "\n",
    "        for page in pages:\n",
    "            resultados = add_unique_valid_info(extract_info_from_page(page), resultados)\n",
    "\n",
    "    return resultados"
   ]
  },
  {
   "cell_type": "markdown",
   "metadata": {},
   "source": [
    "EXECUÇÃO PRINCIPAL"
   ]
  },
  {
   "cell_type": "code",
   "execution_count": 3,
   "metadata": {},
   "outputs": [
    {
     "name": "stdout",
     "output_type": "stream",
     "text": [
      "0 ('CAMPUS DE ARACATUBA - FMV', 34475, 'clt')\n",
      "1 ('CAMPUS DE ARACATUBA - FMV', 34475, 'autarquico')\n",
      "2 ('CAMPUS DE ARACATUBA - FO', 34474, 'clt')\n",
      "3 ('CAMPUS DE ARACATUBA - FO', 34474, 'autarquico')\n",
      "4 ('CAMPUS DE ARARAQUARA - FCF', 34459, 'clt')\n",
      "5 ('CAMPUS DE ARARAQUARA - FCF', 34459, 'autarquico')\n",
      "6 ('CAMPUS DE ARARAQUARA - FCL', 34447, 'clt')\n",
      "7 ('CAMPUS DE ARARAQUARA - FCL', 34447, 'autarquico')\n",
      "8 ('CAMPUS DE ARARAQUARA - FO', 34445, 'clt')\n",
      "9 ('CAMPUS DE ARARAQUARA - FO', 34445, 'autarquico')\n",
      "10 ('CAMPUS DE ARARAQUARA - IQ', 34451, 'clt')\n",
      "11 ('CAMPUS DE ARARAQUARA - IQ', 34451, 'autarquico')\n",
      "12 ('CAMPUS DE ASSIS - FCL', 34328, 'clt')\n",
      "13 ('CAMPUS DE ASSIS - FCL', 34328, 'autarquico')\n",
      "14 ('CAMPUS DE BAURU - AG', 34461, 'clt')\n",
      "15 ('CAMPUS DE BAURU - AG', 34461, 'autarquico')\n",
      "16 ('CAMPUS DE BAURU - FAAC', 34463, 'clt')\n",
      "17 ('CAMPUS DE BAURU - FAAC', 34463, 'autarquico')\n",
      "18 ('CAMPUS DE BAURU - FC', 34462, 'clt')\n",
      "19 ('CAMPUS DE BAURU - FC', 34462, 'autarquico')\n",
      "20 ('CAMPUS DE BAURU - FE', 34464, 'clt')\n",
      "21 ('CAMPUS DE BAURU - FE', 34464, 'autarquico')\n",
      "22 ('CAMPUS DE BOTUCATU - AG', 34650, 'clt')\n",
      "23 ('CAMPUS DE BOTUCATU - AG', 34650, 'autarquico')\n",
      "24 ('CAMPUS DE BOTUCATU - FCA', 34648, 'clt')\n",
      "25 ('CAMPUS DE BOTUCATU - FCA', 34648, 'autarquico')\n",
      "26 ('CAMPUS DE BOTUCATU - FM', 34646, 'clt')\n",
      "27 ('CAMPUS DE BOTUCATU - FM', 34646, 'autarquico')\n",
      "28 ('CAMPUS DE BOTUCATU - FMVZ', 34647, 'clt')\n",
      "29 ('CAMPUS DE BOTUCATU - FMVZ', 34647, 'autarquico')\n",
      "30 ('CAMPUS DE BOTUCATU - IB', 34649, 'clt')\n",
      "31 ('CAMPUS DE BOTUCATU - IB', 34649, 'autarquico')\n",
      "32 ('CAMPUS DE DRACENA-FCAT', 40436, 'clt')\n",
      "33 ('CAMPUS DE DRACENA-FCAT', 40436, 'autarquico')\n",
      "34 ('CAMPUS DE FRANCA-FAC.DE CIENCIAS HUMANAS E SOCIAIS', 34306, 'clt')\n",
      "35 ('CAMPUS DE FRANCA-FAC.DE CIENCIAS HUMANAS E SOCIAIS', 34306, 'autarquico')\n",
      "36 ('CAMPUS DE GUARATINGUETA - FE', 34895, 'clt')\n",
      "37 ('CAMPUS DE GUARATINGUETA - FE', 34895, 'autarquico')\n",
      "38 ('CAMPUS DE ILHA SOLTEIRA - FE', 99998, 'clt')\n",
      "39 ('CAMPUS DE ILHA SOLTEIRA - FE', 99998, 'autarquico')\n",
      "40 ('CAMPUS DE ITAPEVA - ICE', 40437, 'clt')\n",
      "41 ('CAMPUS DE ITAPEVA - ICE', 40437, 'autarquico')\n",
      "42 ('CAMPUS DE JABOTICABAL - FCAV', 34720, 'clt')\n",
      "43 ('CAMPUS DE JABOTICABAL - FCAV', 34720, 'autarquico')\n",
      "44 ('CAMPUS DE MARILIA - FFC', 34262, 'clt')\n",
      "45 ('CAMPUS DE MARILIA - FFC', 34262, 'autarquico')\n",
      "46 ('CAMPUS DE OURINHOS - FCTE', 40438, 'clt')\n",
      "47 ('CAMPUS DE OURINHOS - FCTE', 40438, 'autarquico')\n",
      "48 ('CAMPUS DE PRESIDENTE PRUDENTE - FCT', 34284, 'clt')\n",
      "49 ('CAMPUS DE PRESIDENTE PRUDENTE - FCT', 34284, 'autarquico')\n",
      "50 ('CAMPUS DE REGISTRO - FCAVR', 40439, 'clt')\n",
      "51 ('CAMPUS DE REGISTRO - FCAVR', 40439, 'autarquico')\n",
      "52 ('CAMPUS DE RIO CLARO - IB', 34240, 'clt')\n",
      "53 ('CAMPUS DE RIO CLARO - IB', 34240, 'autarquico')\n",
      "54 ('CAMPUS DE RIO CLARO - IGCE', 34241, 'clt')\n",
      "55 ('CAMPUS DE RIO CLARO - IGCE', 34241, 'autarquico')\n",
      "56 ('CAMPUS DE ROSANA - FEC', 40440, 'clt')\n",
      "57 ('CAMPUS DE ROSANA - FEC', 40440, 'autarquico')\n",
      "58 ('CAMPUS DE SAO JOAO DA BOA VISTA - FE', 40443, 'clt')\n",
      "59 ('CAMPUS DE SAO JOAO DA BOA VISTA - FE', 40443, 'autarquico')\n",
      "60 ('CAMPUS DE SAO JOSE DO RIO PRETO - IBILCE', 34874, 'clt')\n",
      "61 ('CAMPUS DE SAO JOSE DO RIO PRETO - IBILCE', 34874, 'autarquico')\n",
      "62 ('CAMPUS DE SAO PAULO - IA', 40435, 'clt')\n",
      "63 ('CAMPUS DE SAO PAULO - IA', 40435, 'autarquico')\n",
      "64 ('CAMPUS DE SOROCABA-ICT', 40441, 'clt')\n",
      "65 ('CAMPUS DE SOROCABA-ICT', 40441, 'autarquico')\n",
      "66 ('CAMPUS DE TUPA-FCE', 40442, 'clt')\n",
      "67 ('CAMPUS DE TUPA-FCE', 40442, 'autarquico')\n",
      "68 ('CAMPUS DO LITORAL PAULISTA-IB', 34950, 'clt')\n",
      "69 ('CAMPUS DO LITORAL PAULISTA-IB', 34950, 'autarquico')\n",
      "70 ('INSTITUTO DE CIENCIA E TECNOLOGIA-C.SAO JOSE CAMPOS', 34412, 'clt')\n",
      "71 ('INSTITUTO DE CIENCIA E TECNOLOGIA-C.SAO JOSE CAMPOS', 34412, 'autarquico')\n",
      "72 ('REITORIA', 40434, 'clt')\n",
      "73 ('REITORIA', 40434, 'autarquico')\n"
     ]
    }
   ],
   "source": [
    "lines = get_lines_from(\"RHPP05LA - GERAL.pdf\")\n",
    "\n",
    "for index, line in enumerate(lines,start=0):\n",
    "    print(index, line)"
   ]
  }
 ],
 "metadata": {
  "kernelspec": {
   "display_name": "Python 3",
   "language": "python",
   "name": "python3"
  },
  "language_info": {
   "codemirror_mode": {
    "name": "ipython",
    "version": 3
   },
   "file_extension": ".py",
   "mimetype": "text/x-python",
   "name": "python",
   "nbconvert_exporter": "python",
   "pygments_lexer": "ipython3",
   "version": "3.10.12"
  }
 },
 "nbformat": 4,
 "nbformat_minor": 2
}
