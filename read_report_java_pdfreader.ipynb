{
 "cells": [
  {
   "cell_type": "markdown",
   "metadata": {},
   "source": [
    "IMPORTS E PARÂMETROS"
   ]
  },
  {
   "cell_type": "code",
   "execution_count": 148,
   "metadata": {},
   "outputs": [],
   "source": [
    "# imports\n",
    "from PyPDF2 import PdfReader\n",
    "from PyPDF2 import PageObject\n",
    "\n",
    "file_path = 'RHPP05LA - GERAL.pdf'\n",
    "\n",
    "type_order = {'CLT': 1, 'AUTÁRQUICO': 0}"
   ]
  },
  {
   "cell_type": "markdown",
   "metadata": {},
   "source": [
    "FUNÇÕES"
   ]
  },
  {
   "cell_type": "code",
   "execution_count": 149,
   "metadata": {},
   "outputs": [],
   "source": [
    "def extract_info_from_page(page:PageObject, ignore_pages_with:list=[\"TOTAIS\"], split_text:str=\"OP \", split_op=\" - \"):\n",
    "    lines = page.extract_text().split(\"\\n\")\n",
    "\n",
    "    # linha 2 - Código + Unidade \n",
    "    # linha 3 - Tipo\n",
    "    tb_type = lines[3]\n",
    "    if not any(ignore_words in lines for ignore_words in ignore_pages_with):\n",
    "        info = lines[2].split(split_text)[1]\n",
    "        info = info.split(split_op, 1)\n",
    "        op_code = info[0]\n",
    "        op = info[1]\n",
    "        return op, op_code, tb_type\n",
    "    else:\n",
    "        return None, None, None\n",
    "\n",
    "def clean_empty_and_repeated(result, results):\n",
    "    if result[0] is not None:\n",
    "        if result not in results:\n",
    "            results.add(result)\n",
    "    return results\n",
    "\n",
    "def _main_(file_path):\n",
    "    with open(file_path, 'rb') as pdf_file:\n",
    "        pdf_reader = PdfReader(pdf_file)\n",
    "        pages = pdf_reader.pages\n",
    "        resultados = set()\n",
    "\n",
    "        for number_page, page in enumerate(pages, start=1):\n",
    "            resultado = extract_info_from_page(page)\n",
    "            resultados = clean_empty_and_repeated(resultado, resultados)\n",
    "\n",
    "    resultados = sorted(resultados, key=lambda x: (x[0], -type_order.get(x[2], float('inf'))))\n",
    "    return resultados"
   ]
  },
  {
   "cell_type": "markdown",
   "metadata": {},
   "source": [
    "EXECUÇÃO PRINCIPAL"
   ]
  },
  {
   "cell_type": "code",
   "execution_count": 150,
   "metadata": {},
   "outputs": [
    {
     "data": {
      "text/plain": [
       "[('CAMPUS DE ARACATUBA - FO', '34474', 'CLT'),\n",
       " ('CAMPUS DE ARACATUBA - FO', '34474', 'AUTÁRQUICO'),\n",
       " ('CAMPUS DE ARACATUBA-FMV', '34475', 'CLT'),\n",
       " ('CAMPUS DE ARACATUBA-FMV', '34475', 'AUTÁRQUICO'),\n",
       " ('CAMPUS DE ARARAQUARA - FCF', '34459', 'CLT'),\n",
       " ('CAMPUS DE ARARAQUARA - FCF', '34459', 'AUTÁRQUICO'),\n",
       " ('CAMPUS DE ARARAQUARA - FCL', '34447', 'CLT'),\n",
       " ('CAMPUS DE ARARAQUARA - FCL', '34447', 'AUTÁRQUICO'),\n",
       " ('CAMPUS DE ARARAQUARA - FO', '34445', 'CLT'),\n",
       " ('CAMPUS DE ARARAQUARA - FO', '34445', 'AUTÁRQUICO'),\n",
       " ('CAMPUS DE ARARAQUARA - IQ', '34451', 'CLT'),\n",
       " ('CAMPUS DE ARARAQUARA - IQ', '34451', 'AUTÁRQUICO'),\n",
       " ('CAMPUS DE ASSIS - FCL', '34328', 'CLT'),\n",
       " ('CAMPUS DE ASSIS - FCL', '34328', 'AUTÁRQUICO'),\n",
       " ('CAMPUS DE BAURU - AG', '34461', 'CLT'),\n",
       " ('CAMPUS DE BAURU - AG', '34461', 'AUTÁRQUICO'),\n",
       " ('CAMPUS DE BAURU - FAAC', '34463', 'CLT'),\n",
       " ('CAMPUS DE BAURU - FAAC', '34463', 'AUTÁRQUICO'),\n",
       " ('CAMPUS DE BAURU - FC', '34462', 'CLT'),\n",
       " ('CAMPUS DE BAURU - FC', '34462', 'AUTÁRQUICO'),\n",
       " ('CAMPUS DE BAURU - FE', '34464', 'CLT'),\n",
       " ('CAMPUS DE BAURU - FE', '34464', 'AUTÁRQUICO'),\n",
       " ('CAMPUS DE BOTUCATU - AG', '34650', 'CLT'),\n",
       " ('CAMPUS DE BOTUCATU - AG', '34650', 'AUTÁRQUICO'),\n",
       " ('CAMPUS DE BOTUCATU - FCA', '34648', 'CLT'),\n",
       " ('CAMPUS DE BOTUCATU - FCA', '34648', 'AUTÁRQUICO'),\n",
       " ('CAMPUS DE BOTUCATU - FM', '34646', 'CLT'),\n",
       " ('CAMPUS DE BOTUCATU - FM', '34646', 'AUTÁRQUICO'),\n",
       " ('CAMPUS DE BOTUCATU - FMVZ', '34647', 'CLT'),\n",
       " ('CAMPUS DE BOTUCATU - FMVZ', '34647', 'AUTÁRQUICO'),\n",
       " ('CAMPUS DE BOTUCATU - IB', '34649', 'CLT'),\n",
       " ('CAMPUS DE BOTUCATU - IB', '34649', 'AUTÁRQUICO'),\n",
       " ('CAMPUS DE DRACENA-FCAT', '40436', 'CLT'),\n",
       " ('CAMPUS DE DRACENA-FCAT', '40436', 'AUTÁRQUICO'),\n",
       " ('CAMPUS DE FRANCA-FAC.DE CIENCIAS HUMANAS E SOCIAIS', '34306', 'CLT'),\n",
       " ('CAMPUS DE FRANCA-FAC.DE CIENCIAS HUMANAS E SOCIAIS', '34306', 'AUTÁRQUICO'),\n",
       " ('CAMPUS DE GUARATINGUETA - FE', '34895', 'CLT'),\n",
       " ('CAMPUS DE GUARATINGUETA - FE', '34895', 'AUTÁRQUICO'),\n",
       " ('CAMPUS DE ILHA SOLTEIRA - FE', '99998', 'CLT'),\n",
       " ('CAMPUS DE ILHA SOLTEIRA - FE', '99998', 'AUTÁRQUICO'),\n",
       " ('CAMPUS DE ITAPEVA - ICE', '40437', 'CLT'),\n",
       " ('CAMPUS DE ITAPEVA - ICE', '40437', 'AUTÁRQUICO'),\n",
       " ('CAMPUS DE JABOTICABAL - FCAV', '34720', 'CLT'),\n",
       " ('CAMPUS DE JABOTICABAL - FCAV', '34720', 'AUTÁRQUICO'),\n",
       " ('CAMPUS DE MARILIA - FFC', '34262', 'CLT'),\n",
       " ('CAMPUS DE MARILIA - FFC', '34262', 'AUTÁRQUICO'),\n",
       " ('CAMPUS DE OURINHOS - FCTE', '40438', 'CLT'),\n",
       " ('CAMPUS DE OURINHOS - FCTE', '40438', 'AUTÁRQUICO'),\n",
       " ('CAMPUS DE PRESIDENTE PRUDENTE - FCT', '34284', 'CLT'),\n",
       " ('CAMPUS DE PRESIDENTE PRUDENTE - FCT', '34284', 'AUTÁRQUICO'),\n",
       " ('CAMPUS DE REGISTRO - FCAVR', '40439', 'CLT'),\n",
       " ('CAMPUS DE REGISTRO - FCAVR', '40439', 'AUTÁRQUICO'),\n",
       " ('CAMPUS DE RIO CLARO - IB', '34240', 'CLT'),\n",
       " ('CAMPUS DE RIO CLARO - IB', '34240', 'AUTÁRQUICO'),\n",
       " ('CAMPUS DE RIO CLARO - IGCE', '34241', 'CLT'),\n",
       " ('CAMPUS DE RIO CLARO - IGCE', '34241', 'AUTÁRQUICO'),\n",
       " ('CAMPUS DE ROSANA - FEC', '40440', 'CLT'),\n",
       " ('CAMPUS DE ROSANA - FEC', '40440', 'AUTÁRQUICO'),\n",
       " ('CAMPUS DE SAO JOAO DA BOA VISTA - FE', '40443', 'CLT'),\n",
       " ('CAMPUS DE SAO JOAO DA BOA VISTA - FE', '40443', 'AUTÁRQUICO'),\n",
       " ('CAMPUS DE SAO JOSE DO RIO PRETO - IBILCE', '34874', 'CLT'),\n",
       " ('CAMPUS DE SAO JOSE DO RIO PRETO - IBILCE', '34874', 'AUTÁRQUICO'),\n",
       " ('CAMPUS DE SAO PAULO - IA', '40435', 'CLT'),\n",
       " ('CAMPUS DE SAO PAULO - IA', '40435', 'AUTÁRQUICO'),\n",
       " ('CAMPUS DE SOROCABA-ICT', '40441', 'CLT'),\n",
       " ('CAMPUS DE SOROCABA-ICT', '40441', 'AUTÁRQUICO'),\n",
       " ('CAMPUS DE TUPA-FCE', '40442', 'CLT'),\n",
       " ('CAMPUS DE TUPA-FCE', '40442', 'AUTÁRQUICO'),\n",
       " ('CAMPUS DO LITORAL PAULISTA-IB', '34950', 'CLT'),\n",
       " ('CAMPUS DO LITORAL PAULISTA-IB', '34950', 'AUTÁRQUICO'),\n",
       " ('INSTITUTO DE CIENCIA E TECNOLOGIA-C.SAO JOSE CAMPOS', '34412', 'CLT'),\n",
       " ('INSTITUTO DE CIENCIA E TECNOLOGIA-C.SAO JOSE CAMPOS',\n",
       "  '34412',\n",
       "  'AUTÁRQUICO'),\n",
       " ('REITORIA', '40434', 'CLT'),\n",
       " ('REITORIA', '40434', 'AUTÁRQUICO')]"
      ]
     },
     "metadata": {},
     "output_type": "display_data"
    }
   ],
   "source": [
    "display(_main_(file_path))"
   ]
  }
 ],
 "metadata": {
  "kernelspec": {
   "display_name": "Python 3",
   "language": "python",
   "name": "python3"
  },
  "language_info": {
   "codemirror_mode": {
    "name": "ipython",
    "version": 3
   },
   "file_extension": ".py",
   "mimetype": "text/x-python",
   "name": "python",
   "nbconvert_exporter": "python",
   "pygments_lexer": "ipython3",
   "version": "3.10.12"
  }
 },
 "nbformat": 4,
 "nbformat_minor": 2
}
