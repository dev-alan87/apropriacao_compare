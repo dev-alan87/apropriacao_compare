{
 "cells": [
  {
   "cell_type": "code",
   "execution_count": 7,
   "metadata": {},
   "outputs": [],
   "source": [
    "import nbimporter\n",
    "import read_report_java_pdfreader as jLine_reader # type: ignore\n",
    "import read_report_java_tabula as jTable_reader # type: ignore"
   ]
  },
  {
   "cell_type": "code",
   "execution_count": 8,
   "metadata": {},
   "outputs": [],
   "source": [
    "def get_java_data_from(file_path:str):\n",
    "    results = {}\n",
    "    lines   = jLine_reader.get_lines_from(file_path)\n",
    "    tables  = jTable_reader.get_tables_from(file_path)\n",
    "    index = 0\n",
    "    for key, value in tables.items():\n",
    "        for table_type, table in value:\n",
    "            op_name, op_code, tb_type = lines[index//4]\n",
    "            \n",
    "            if op_code not in results:\n",
    "                results[op_code] = {\n",
    "                    \"codigo\" : op_code,\n",
    "                    \"unidade\" : op_name\n",
    "                }\n",
    "            results[op_code].setdefault(tb_type, {})[table_type] = table\n",
    "            index += 1\n",
    "    return results"
   ]
  },
  {
   "cell_type": "code",
   "execution_count": 9,
   "metadata": {},
   "outputs": [
    {
     "data": {
      "text/plain": [
       "{'codigo': 40434,\n",
       " 'unidade': 'REITORIA',\n",
       " 'autarquico': {'apropriado':                       ferias  13_ferias total_ferias 13_salario       total\n",
       "  0     apropriacao  364641.26  121545.68    486186.94  364641.26   850828.20\n",
       "  1            inss   72926.76   24308.00     97234.76   62057.50   159292.26\n",
       "  2         ac_trab  182319.78   60771.96    243091.74  155146.80   398238.54\n",
       "  3            fgts   29169.32    9721.89     38891.21   24822.20    63713.41\n",
       "  4       spprevcom       0.00       0.00         0.00    1959.04     1959.04\n",
       "  5  total_encargos  284415.86   94801.85    379217.71  243985.54   623203.25\n",
       "  6           total  649057.12  216347.53    865404.65  608626.80  1474031.45,\n",
       "  'realizado':                        ferias  13_ferias total_ferias 13_salario       total\n",
       "  0     apropriacao   491626.71  164915.44    656542.15     562.31   657104.46\n",
       "  1  ferias_pecunia   105434.36       0.00    105434.36       0.00   105434.36\n",
       "  2           Total   597061.07  164915.44    761976.51     562.31   762538.82\n",
       "  3            inss   119411.83   32982.72    152394.55       0.00   152394.55\n",
       "  4         ac_trab   298530.29   82457.55    380987.84       0.00   380987.84\n",
       "  5            fgts    47764.42   13192.79     60957.21       0.00    60957.21\n",
       "  6       spprevcom        0.00       0.00         0.00       0.00        0.00\n",
       "  7  total_encargos   465706.54  128633.06    594339.60       0.00   594339.60\n",
       "  8           total  1062767.61  293548.50   1356316.11     562.31  1356878.42,\n",
       "  'saldo':                       ferias  13_ferias total_ferias 13_salario       total\n",
       "  0     apropriacao  207735.37   69244.05    276979.42  364078.95   641058.37\n",
       "  1            inss   41545.97   13848.06     55394.03   62057.50   117451.53\n",
       "  2         ac_trab  103867.10   34621.38    138488.48  155146.80   293635.28\n",
       "  3            fgts   16617.33    5538.23     22155.56   24822.20    46977.76\n",
       "  4       spprevcom       0.00       0.00         0.00    1959.04     1959.04\n",
       "  5  total_encargos  162030.40   54007.67    216038.07  243985.54   460023.61\n",
       "  6           total  369765.77  123251.72    493017.49  608064.49  1101081.98,\n",
       "  'revertido':                       ferias  13_ferias total_ferias 13_salario      total\n",
       "  0     apropriacao  440155.18  112613.81    552768.99   -4177.52  548591.47\n",
       "  1            inss   88031.04   22522.78    110553.82       0.00  110553.82\n",
       "  2         ac_trab  220077.61   56306.97    276384.58       0.00  276384.58\n",
       "  3            fgts   35212.43    9009.13     44221.56       0.00   44221.56\n",
       "  4       spprevcom       0.00       0.00         0.00       0.00       0.00\n",
       "  5  total_encargos  343321.08   87838.88    431159.96       0.00  431159.96\n",
       "  6           total  783476.26  200452.69    983928.95   -4177.52  979751.43},\n",
       " 'clt': {'apropriado':                    ferias 13_ferias total_ferias 13_salario      total\n",
       "  0  apropriacao  261645.95  87214.79    348860.74  261645.95  610506.69\n",
       "  1    spprevcom       0.00      0.00         0.00     164.54     164.54\n",
       "  2        total  261645.95  87214.79    348860.74  261810.49  610671.23\n",
       "  3       spprev       0.00      0.00         0.00  376284.78  376284.78,\n",
       "  'realizado':                    ferias 13_ferias total_ferias 13_salario      total\n",
       "  0  apropriacao  146256.84  49705.68    195962.52       0.00  195962.52\n",
       "  1    spprevcom       0.00      0.00         0.00       0.00       0.00\n",
       "  2        total  146256.84  49705.68    195962.52       0.00  195962.52\n",
       "  3       spprev       0.00      0.00         0.00       0.00       0.00,\n",
       "  'saldo':                    ferias 13_ferias total_ferias 13_salario      total\n",
       "  0  apropriacao  143681.76  47781.35    191463.11  261645.95  453109.06\n",
       "  1    spprevcom       0.00      0.00         0.00     164.54     164.54\n",
       "  2        total  143681.76  47781.35    191463.11  261810.49  453273.60\n",
       "  3       spprev       0.00      0.00         0.00  376284.78  376284.78,\n",
       "  'revertido':                   ferias 13_ferias total_ferias 13_salario      total\n",
       "  0  apropriacao  93989.58  31441.96    125431.54       0.00  125431.54\n",
       "  1    spprevcom      0.00      0.00         0.00       0.00       0.00\n",
       "  2        total  93989.58  31441.96    125431.54       0.00  125431.54\n",
       "  3       spprev      0.00      0.00         0.00       0.00       0.00}}"
      ]
     },
     "metadata": {},
     "output_type": "display_data"
    }
   ],
   "source": [
    "results = get_java_data_from(\"RHPP05LA - GERAL.pdf\")\n",
    "\n",
    "# for tb_type, tb in results[34459]['clt'].items():\n",
    "#     print(tb_type)\n",
    "#     display(tb)\n",
    "display(results[40434])"
   ]
  }
 ],
 "metadata": {
  "kernelspec": {
   "display_name": "Python 3",
   "language": "python",
   "name": "python3"
  },
  "language_info": {
   "codemirror_mode": {
    "name": "ipython",
    "version": 3
   },
   "file_extension": ".py",
   "mimetype": "text/x-python",
   "name": "python",
   "nbconvert_exporter": "python",
   "pygments_lexer": "ipython3",
   "version": "3.10.12"
  }
 },
 "nbformat": 4,
 "nbformat_minor": 2
}
