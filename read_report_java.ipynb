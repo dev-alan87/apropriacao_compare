{
 "cells": [
  {
   "cell_type": "code",
   "execution_count": 23,
   "metadata": {},
   "outputs": [],
   "source": [
    "import nbimporter\n",
    "import read_report_java_pdfreader as jLine_reader # type: ignore\n",
    "import read_report_java_tabula as jTable_reader # type: ignore"
   ]
  },
  {
   "cell_type": "code",
   "execution_count": 24,
   "metadata": {},
   "outputs": [],
   "source": [
    "def get_java_data_from(file_path:str):\n",
    "    results = {}\n",
    "    lines   = jLine_reader.get_lines_from(file_path)\n",
    "    tables  = jTable_reader.get_tables_from(file_path)\n",
    "    index = 0\n",
    "    for key, value in tables.items():\n",
    "        for table_type, table in value:\n",
    "            op_name, op_code, tb_type = lines[index//4]\n",
    "            if op_code not in results:\n",
    "                results[op_code] = {\n",
    "                    \"codigo\" : op_code,\n",
    "                    \"unidade\" : op_name\n",
    "                }\n",
    "            results[op_code].setdefault(tb_type, {})[table_type] = table\n",
    "            index += 1\n",
    "    return results"
   ]
  },
  {
   "cell_type": "code",
   "execution_count": 25,
   "metadata": {},
   "outputs": [
    {
     "data": {
      "text/html": [
       "<div>\n",
       "<style scoped>\n",
       "    .dataframe tbody tr th:only-of-type {\n",
       "        vertical-align: middle;\n",
       "    }\n",
       "\n",
       "    .dataframe tbody tr th {\n",
       "        vertical-align: top;\n",
       "    }\n",
       "\n",
       "    .dataframe thead th {\n",
       "        text-align: right;\n",
       "    }\n",
       "</style>\n",
       "<table border=\"1\" class=\"dataframe\">\n",
       "  <thead>\n",
       "    <tr style=\"text-align: right;\">\n",
       "      <th></th>\n",
       "      <th></th>\n",
       "      <th>ferias</th>\n",
       "      <th>13_ferias</th>\n",
       "      <th>total_ferias</th>\n",
       "      <th>13_salario</th>\n",
       "      <th>total</th>\n",
       "    </tr>\n",
       "  </thead>\n",
       "  <tbody>\n",
       "    <tr>\n",
       "      <th>0</th>\n",
       "      <td>apropriacao</td>\n",
       "      <td>146256.84</td>\n",
       "      <td>49705.68</td>\n",
       "      <td>195962.52</td>\n",
       "      <td>0.00</td>\n",
       "      <td>195962.52</td>\n",
       "    </tr>\n",
       "    <tr>\n",
       "      <th>1</th>\n",
       "      <td>spprevcom</td>\n",
       "      <td>0.00</td>\n",
       "      <td>0.00</td>\n",
       "      <td>0.00</td>\n",
       "      <td>0.00</td>\n",
       "      <td>0.00</td>\n",
       "    </tr>\n",
       "    <tr>\n",
       "      <th>2</th>\n",
       "      <td>total</td>\n",
       "      <td>146256.84</td>\n",
       "      <td>49705.68</td>\n",
       "      <td>195962.52</td>\n",
       "      <td>0.00</td>\n",
       "      <td>195962.52</td>\n",
       "    </tr>\n",
       "    <tr>\n",
       "      <th>3</th>\n",
       "      <td>spprev</td>\n",
       "      <td>0.00</td>\n",
       "      <td>0.00</td>\n",
       "      <td>0.00</td>\n",
       "      <td>0.00</td>\n",
       "      <td>0.00</td>\n",
       "    </tr>\n",
       "  </tbody>\n",
       "</table>\n",
       "</div>"
      ],
      "text/plain": [
       "                   ferias 13_ferias total_ferias 13_salario      total\n",
       "0  apropriacao  146256.84  49705.68    195962.52       0.00  195962.52\n",
       "1    spprevcom       0.00      0.00         0.00       0.00       0.00\n",
       "2        total  146256.84  49705.68    195962.52       0.00  195962.52\n",
       "3       spprev       0.00      0.00         0.00       0.00       0.00"
      ]
     },
     "metadata": {},
     "output_type": "display_data"
    }
   ],
   "source": [
    "results = get_java_data_from(\"RHPP05LA - GERAL.pdf\")\n",
    "\n",
    "# for tb_type, tb in results[34459]['clt'].items():\n",
    "#     print(tb_type)\n",
    "#     display(tb)\n",
    "\n",
    "display(results[40434]['autarquico']['realizado'])"
   ]
  }
 ],
 "metadata": {
  "kernelspec": {
   "display_name": "Python 3",
   "language": "python",
   "name": "python3"
  },
  "language_info": {
   "codemirror_mode": {
    "name": "ipython",
    "version": 3
   },
   "file_extension": ".py",
   "mimetype": "text/x-python",
   "name": "python",
   "nbconvert_exporter": "python",
   "pygments_lexer": "ipython3",
   "version": "3.10.12"
  }
 },
 "nbformat": 4,
 "nbformat_minor": 2
}
